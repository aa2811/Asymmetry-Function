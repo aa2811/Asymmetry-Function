{
 "cells": [
  {
   "cell_type": "code",
   "execution_count": 1,
   "metadata": {
    "collapsed": true
   },
   "outputs": [],
   "source": [
    "from astropy.io import fits\n",
    "from astropy import wcs\n",
    "import bz2\n",
    "import os\n",
    "import urllib.request\n",
    "import numpy as np\n",
    "import copy\n",
    "import matplotlib.pyplot as plt\n",
    "import csv\n",
    "from astropy.utils.data import get_pkg_data_filename\n",
    "from matplotlib.colors import LogNorm\n",
    "from scipy.interpolate import interp1d"
   ]
  },
  {
   "cell_type": "code",
   "execution_count": 52,
   "metadata": {},
   "outputs": [],
   "source": [
    "def convert_pix_to_petrorad(resultscsv, outputname):\n",
    "    with open(resultscsv) as csvfile:\n",
    "            reader = csv.reader(csvfile)\n",
    "            filenamelist=[]\n",
    "            resultslist=[]\n",
    "            petroradlist=[]\n",
    "            newresultslist=[]\n",
    "            #Gets data on everything except 1st row\n",
    "            colnames=next(reader)\n",
    "            xpixels=[float(i) for i in colnames[2:]]\n",
    "            xpetrorad=np.arange(0.05,1.3,0.01)\n",
    "            for row in reader:\n",
    "                filenamelist.append(row[0])\n",
    "                petroradlist.append(row[1])\n",
    "                resultslist.append(row[2:])\n",
    "            for i in range(len(filenamelist)):\n",
    "                #create x and y to use in interpolation\n",
    "                xint=[]\n",
    "                yint=[]\n",
    "                for j in range(len(resultslist[i])):\n",
    "                    if not resultslist[i][j]=='nan':\n",
    "                        xint.append(float(xpixels[j]))\n",
    "                        yint.append(float(resultslist[i][j]))\n",
    "                    else:\n",
    "                        break\n",
    "                f=interp1d(xint,yint, kind='linear', fill_value='extrapolate')\n",
    "                xpetroradpix=[float(petroradlist[i])*j for j in xpetrorad]\n",
    "                ypetrorad=[f(k) for k in xpetroradpix]\n",
    "                newresultslist.append(ypetrorad)\n",
    "            with open(outputname,'w+') as outputfile:\n",
    "                writer=csv.writer(outputfile)\n",
    "                writer.writerow(['Filename']+[str(k) for k in xpetrorad])\n",
    "                for i in range(len(filenamelist)):\n",
    "                        row=[filenamelist[i]]+newresultslist[i]\n",
    "                        writer.writerow(row)"
   ]
  },
  {
   "cell_type": "code",
   "execution_count": 55,
   "metadata": {},
   "outputs": [],
   "source": [
    "convert_pix_to_petrorad('victor results down 1 pix', 'victor_results_fraction_petrorad.csv')"
   ]
  },
  {
   "cell_type": "code",
   "execution_count": null,
   "metadata": {
    "collapsed": true
   },
   "outputs": [],
   "source": []
  }
 ],
 "metadata": {
  "kernelspec": {
   "display_name": "Python 3",
   "language": "python",
   "name": "python3"
  },
  "language_info": {
   "codemirror_mode": {
    "name": "ipython",
    "version": 3
   },
   "file_extension": ".py",
   "mimetype": "text/x-python",
   "name": "python",
   "nbconvert_exporter": "python",
   "pygments_lexer": "ipython3",
   "version": "3.6.3"
  }
 },
 "nbformat": 4,
 "nbformat_minor": 2
}
