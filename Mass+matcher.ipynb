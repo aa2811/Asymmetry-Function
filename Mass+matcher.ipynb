{
 "cells": [
  {
   "cell_type": "code",
   "execution_count": 4,
   "metadata": {
    "collapsed": true
   },
   "outputs": [],
   "source": [
    "from astropy.table import Table\n",
    "import numpy as np\n",
    "import random"
   ]
  },
  {
   "cell_type": "code",
   "execution_count": 5,
   "metadata": {
    "collapsed": true
   },
   "outputs": [],
   "source": [
    "def match(sample,matchsample,matchcolname,numberinbin=20,outputname='Massmatched.csv',timesbigger=1):\n",
    "    sampletable=Table.read(sample, format='csv')\n",
    "    samplearray=np.array(sampletable)\n",
    "    matchsampletable=Table.read(matchsample, format='csv')\n",
    "    matchsamplearray=np.array(matchsampletable)\n",
    "    #Create mass bins\n",
    "    binedges=[min(samplearray[matchcolname])]\n",
    "    #Find which indexs should have the edges\n",
    "    for i in np.arange(numberinbin-1,len(samplearray[matchcolname]),numberinbin):\n",
    "        #Find mass value at bin edge, and 1 past bin edge, and average them to find where the bin edge should be\n",
    "        edge1=samplearray[matchcolname][np.argsort(samplearray[matchcolname])[i]]\n",
    "        edge2=samplearray[matchcolname][np.argsort(samplearray[matchcolname])[i+1]]\n",
    "        edge=np.mean([edge1,edge2])\n",
    "        binedges.append(edge)\n",
    "    binedges.append(max(samplearray[matchcolname]))\n",
    "    print(binedges)\n",
    "    \n",
    "    #Put sample galaxies into bins\n",
    "    binnedsample=[]\n",
    "    for i in range(len(binedges)-1):\n",
    "        lowerlimit=binedges[i]-0.00000000001\n",
    "        upperlimit=binedges[i+1]+0.00000000001\n",
    "        binoutput=Table(sampletable[:0])\n",
    "        for j in range(len(sampletable[matchcolname])):\n",
    "            if (sampletable[matchcolname][j]> lowerlimit and sampletable[matchcolname][j]<upperlimit):\n",
    "                binoutput.add_row(sampletable[j])\n",
    "        binnedsample.append(binoutput)\n",
    "    \n",
    "    #Select random entries from matchsample within each bin, so the numbers in both are the same\n",
    "    matchedbinnedsample=Table(matchsampletable[:0])\n",
    "    for i in range(len(binedges)-1):\n",
    "        print('i=',i)\n",
    "        numbertoselect=len(binnedsample[i])*timesbigger\n",
    "        lowerlimit=binedges[i]\n",
    "        upperlimit=binedges[i+1]\n",
    "        selectfromtable=Table(matchsampletable[:0])\n",
    "        for j in range(len(matchsampletable[matchcolname])):\n",
    "            if (matchsampletable[matchcolname][j]> lowerlimit and matchsampletable[matchcolname][j]<upperlimit):\n",
    "                selectfromtable.add_row(matchsampletable[j])\n",
    "        for j in range(numbertoselect):\n",
    "            randomrow=selectfromtable[random.randint(0,len(selectfromtable)-1)]\n",
    "            matchedbinnedsample.add_row(randomrow)                                   \n",
    "    matchedbinnedsample.write(outputname ,format='csv')       \n",
    "        "
   ]
  },
  {
   "cell_type": "code",
   "execution_count": 4,
   "metadata": {
    "scrolled": true
   },
   "outputs": [
    {
     "name": "stdout",
     "output_type": "stream",
     "text": [
      "[7.7216420000000001, 8.7852579999999989, 9.0056872500000011, 9.1442189999999997, 9.2767149999999994, 9.3705074999999987, 9.4583195, 9.5175905000000007, 9.5803469999999997, 9.6602980000000009, 9.7525849999999998, 9.8593225000000011, 10.12992775, 10.787727, 11.293236]\n",
      "i= 0\n",
      "i= 1\n",
      "i= 2\n",
      "i= 3\n",
      "i= 4\n",
      "i= 5\n",
      "i= 6\n",
      "i= 7\n",
      "i= 8\n",
      "i= 9\n",
      "i= 10\n",
      "i= 11\n",
      "i= 12\n",
      "i= 13\n"
     ]
    }
   ],
   "source": [
    "match('Downloads/Offsetresultswithmass','results_simple_zcut_matcher', 'LGM_TOT_P50', outputname='matched_sample_zcut.csv',timesbigger=5)"
   ]
  },
  {
   "cell_type": "code",
   "execution_count": 7,
   "metadata": {},
   "outputs": [
    {
     "name": "stdout",
     "output_type": "stream",
     "text": [
      "[7.7216420000000001, 8.7852579999999989, 9.0056872500000011, 9.1442189999999997, 9.2767149999999994, 9.3705074999999987, 9.4583195, 9.5175905000000007, 9.5803469999999997, 9.6602980000000009, 9.7525849999999998, 9.8593225000000011, 10.12992775, 10.787727, 11.293236]\n",
      "i= 0\n",
      "i= 1\n",
      "i= 2\n",
      "i= 3\n",
      "i= 4\n",
      "i= 5\n",
      "i= 6\n",
      "i= 7\n",
      "i= 8\n",
      "i= 9\n",
      "i= 10\n",
      "i= 11\n",
      "i= 12\n",
      "i= 13\n"
     ]
    }
   ],
   "source": [
    "match('Downloads/Offsetresultswithmass','Downloads/bar_results_with_cuts_SFR', 'LGM_TOT_P50', outputname='Downloads/new_matched_bars')"
   ]
  },
  {
   "cell_type": "code",
   "execution_count": 7,
   "metadata": {},
   "outputs": [
    {
     "name": "stdout",
     "output_type": "stream",
     "text": [
      "[-9999.0, 8.8598345000000016, 9.0443674999999999, 9.1617172500000006, 9.250589999999999, 9.3508290000000009, 9.4215389999999992, 9.4914035000000005, 9.5606244999999994, 9.6156615000000016, 9.6759799999999991, 9.7475869999999993, 9.8080920000000003, 9.8785164999999999, 9.9427782499999999, 10.010270999999999, 10.0926005, 10.166036999999999, 10.238123999999999, 10.312263, 10.413560499999999, 10.531115499999999, 10.6826905, 10.893521, 12.011844999999999]\n",
      "i= 0\n",
      "i= 1\n",
      "i= 2\n",
      "i= 3\n",
      "i= 4\n",
      "i= 5\n",
      "i= 6\n",
      "i= 7\n",
      "i= 8\n",
      "i= 9\n",
      "i= 10\n",
      "i= 11\n",
      "i= 12\n",
      "i= 13\n",
      "i= 14\n",
      "i= 15\n",
      "i= 16\n",
      "i= 17\n",
      "i= 18\n",
      "i= 19\n",
      "i= 20\n",
      "i= 21\n",
      "i= 22\n",
      "i= 23\n"
     ]
    },
    {
     "name": "stderr",
     "output_type": "stream",
     "text": [
      "WARNING: AstropyDeprecationWarning: Downloads/non_lopsided_mass_matched_simple_zcut.csv already exists. Automatically overwriting ASCII files is deprecated. Use the argument 'overwrite=True' in the future. [astropy.io.ascii.ui]\n"
     ]
    }
   ],
   "source": [
    "match('results_zcut_lopsided_simple.csv','results_zcut_non_lopsided_simple.csv', 'LGM_TOT_P50', outputname='Downloads/non_lopsided_mass_matched_simple_zcut.csv', numberinbin=150)"
   ]
  },
  {
   "cell_type": "code",
   "execution_count": 10,
   "metadata": {},
   "outputs": [
    {
     "name": "stdout",
     "output_type": "stream",
     "text": [
      "[-9999.0, 8.9258585000000004, 9.1241552500000012, 9.2710429999999988, 9.3940599999999996, 9.4998550000000002, 9.5991444999999995, 9.6932185000000004, 9.7933302500000003, 9.8951795000000011, 10.0002195, 10.135880999999999, 10.271972999999999, 10.44870375, 10.700038749999999, 11.834325]\n",
      "i= 0\n",
      "i= 1\n",
      "i= 2\n",
      "i= 3\n",
      "i= 4\n",
      "i= 5\n",
      "i= 6\n",
      "i= 7\n",
      "i= 8\n",
      "i= 9\n",
      "i= 10\n",
      "i= 11\n",
      "i= 12\n",
      "i= 13\n",
      "i= 14\n"
     ]
    }
   ],
   "source": [
    "match('results_zcut_very_lopsided_simple.csv','results_zcut_non_lopsided_simple.csv', 'LGM_TOT_P50', outputname='Downloads/non_lopsided_mass_matched_to_non_simple.csv', numberinbin=150)"
   ]
  },
  {
   "cell_type": "code",
   "execution_count": null,
   "metadata": {
    "collapsed": true
   },
   "outputs": [],
   "source": []
  }
 ],
 "metadata": {
  "kernelspec": {
   "display_name": "Python 3",
   "language": "python",
   "name": "python3"
  },
  "language_info": {
   "codemirror_mode": {
    "name": "ipython",
    "version": 3
   },
   "file_extension": ".py",
   "mimetype": "text/x-python",
   "name": "python",
   "nbconvert_exporter": "python",
   "pygments_lexer": "ipython3",
   "version": "3.6.3"
  }
 },
 "nbformat": 4,
 "nbformat_minor": 2
}
