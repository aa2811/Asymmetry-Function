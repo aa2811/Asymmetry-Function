{
 "cells": [
  {
   "cell_type": "code",
   "execution_count": 2,
   "metadata": {
    "collapsed": true
   },
   "outputs": [],
   "source": [
    "import numpy as np\n",
    "from astropy.io import fits"
   ]
  },
  {
   "cell_type": "code",
   "execution_count": 29,
   "metadata": {},
   "outputs": [],
   "source": [
    "def findpetrorad(filename, rowc=100, colc=100, FITS_directory='Downloads/allison/', rpinit=3):\n",
    "    #Finds the petrosian radius as defined here: http://skyserver.sdss.org/dr7/en/help/docs/algorithm.asp?key=mag_petro\n",
    "    #Initialise rp at 1 pixel. Calculate petrosian ratio. If not less than 0.2, increase rp and try again\n",
    "    rp=rpinit\n",
    "    file=fits.open(FITS_directory+filename)\n",
    "    image=file[0] \n",
    "    data=image.data\n",
    "    while True:\n",
    "        top=2*(1.25**2-0.8**2)**-1*rp**-2*np.trapz([r*azimuthal_averaged_brightness(data, r, rowc, colc) for r in np.arange(0.8*rp,1.25*rp, 1)], np.arange(0.8*rp,1.25*rp, 1))\n",
    "        bottom=2*rp**-2*np.trapz([r*azimuthal_averaged_brightness(data, r,colc, rowc) for r in np.arange(0,rp, 1)], np.arange(0,rp,1))\n",
    "        if top/bottom<0.2:\n",
    "            return rp\n",
    "        else:\n",
    "            rp+=1\n",
    "            continue\n",
    "def azimuthal_averaged_brightness(image, radius, colc, rowc):\n",
    "    #Finds the azimuthally averaged intensity at a particular radius\n",
    "    dtheta=360./360.\n",
    "    thetas=np.arange(0,360,dtheta)\n",
    "    thetarad=[i*2*np.pi/360. for i in thetas]\n",
    "    pixbrightness=[]\n",
    "    for i in range(len(thetarad)):\n",
    "        #First calculate distances from centre\n",
    "        dx=radius*np.sin(thetarad[i])\n",
    "        dy=radius*np.cos(thetarad[i])\n",
    "        #Then add on coordinates of centre\n",
    "        x=int(round(colc+dx))\n",
    "        y=int(round(rowc+dy))\n",
    "        pixbrightness.append(image[y, x])\n",
    "    average=(2*np.pi)**-1*np.trapz(pixbrightness, thetarad)\n",
    "    return average"
   ]
  },
  {
   "cell_type": "code",
   "execution_count": 49,
   "metadata": {},
   "outputs": [
    {
     "name": "stdout",
     "output_type": "stream",
     "text": [
      "8\n",
      "9\n"
     ]
    }
   ],
   "source": [
    "print(findpetrorad('imrun708dwfDiffLF.00240.pa0.inc0.fits'))\n",
    "print(findpetrorad('imrun708dwfDiffLF.00250.pa0.inc0.fits'))\n"
   ]
  },
  {
   "cell_type": "code",
   "execution_count": null,
   "metadata": {
    "collapsed": true
   },
   "outputs": [],
   "source": []
  }
 ],
 "metadata": {
  "kernelspec": {
   "display_name": "Python 3",
   "language": "python",
   "name": "python3"
  },
  "language_info": {
   "codemirror_mode": {
    "name": "ipython",
    "version": 3
   },
   "file_extension": ".py",
   "mimetype": "text/x-python",
   "name": "python",
   "nbconvert_exporter": "python",
   "pygments_lexer": "ipython3",
   "version": "3.6.3"
  }
 },
 "nbformat": 4,
 "nbformat_minor": 2
}
